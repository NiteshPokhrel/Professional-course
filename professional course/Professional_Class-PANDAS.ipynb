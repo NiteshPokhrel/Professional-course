{
 "cells": [
  {
   "cell_type": "code",
   "execution_count": 3,
   "id": "3f99809a-57b7-4c98-9b29-82587c58cad7",
   "metadata": {},
   "outputs": [],
   "source": [
    "import pandas as pd"
   ]
  },
  {
   "cell_type": "code",
   "execution_count": 5,
   "id": "dec8288b-db4c-49bd-b938-747e903479e9",
   "metadata": {},
   "outputs": [],
   "source": [
    "import numpy as np"
   ]
  },
  {
   "cell_type": "code",
   "execution_count": null,
   "id": "dd1d8466-dc8d-47e9-8130-1025a09bb700",
   "metadata": {},
   "outputs": [],
   "source": [
    "#From a list\n",
    "data=[1,2,3,4,5]\n",
    "s=pd.Series(data)\n",
    "print(s)"
   ]
  },
  {
   "cell_type": "code",
   "execution_count": null,
   "id": "0ce87f27-58e9-4e96-aff7-6b9bf50d2a3b",
   "metadata": {},
   "outputs": [],
   "source": [
    "data={\"name\":\"Menal\",\"age\":21, \"Location\":\"Bhakatapur\"}\n",
    "s=pd.Series(data)\n",
    "print(s)"
   ]
  },
  {
   "cell_type": "code",
   "execution_count": 39,
   "id": "b5682ab7-9961-41f1-99b6-3c322b120ba1",
   "metadata": {},
   "outputs": [
    {
     "name": "stdout",
     "output_type": "stream",
     "text": [
      "[1 2 3 4 5 6]\n",
      "0    1\n",
      "1    2\n",
      "2    3\n",
      "3    4\n",
      "4    5\n",
      "5    6\n",
      "dtype: int32\n"
     ]
    }
   ],
   "source": [
    "#From Numoy Array\n",
    "import numpy as np\n",
    "data=[1,2,3,4,5,6]\n",
    "a= np.array(data)\n",
    "print(a)\n",
    "s= pd.Series(a)\n",
    "print(s)"
   ]
  },
  {
   "cell_type": "code",
   "execution_count": 193,
   "id": "ebe06950-df74-429c-89e1-a383482e91e5",
   "metadata": {},
   "outputs": [
    {
     "name": "stdout",
     "output_type": "stream",
     "text": [
      "       Name  Age       City  Salary\n",
      "0     Menal   21  Bhaktapur   30000\n",
      "1   Nishant   22  Kathmandu   15000\n",
      "2    Nitesh   23   Lalitpur   10000\n",
      "3  Abhishek   23  Bhaktapur    5000\n",
      "4     Aryan   22  Bhaktapur   35000\n",
      "5      Rabi   25  Kathmandu   50000\n",
      "6     Suman   22   lalitpur    5000\n",
      "\n"
     ]
    }
   ],
   "source": [
    "#From a dictionary\n",
    "data={\n",
    "    'Name':['Menal', 'Nishant', 'Nitesh','Abhishek','Aryan', 'Rabi', 'Suman'],\n",
    "    'Age' :[21, 22, 23, 23, 22, 25, 22],\n",
    "    'City' :['Bhaktapur', 'Kathmandu', 'Lalitpur', 'Bhaktapur', 'Bhaktapur', 'Kathmandu', 'lalitpur'],\n",
    "    'Salary' :[30000, 15000, 10000, 5000, 35000, 50000, 5000]\n",
    "}\n",
    "df=pd.DataFrame(data)\n",
    "print(df)\n",
    "print(\"\")\n",
    "    "
   ]
  },
  {
   "cell_type": "code",
   "execution_count": 11,
   "id": "a59b1f7a-95f1-49f9-b408-b6751de3157d",
   "metadata": {},
   "outputs": [
    {
     "name": "stdout",
     "output_type": "stream",
     "text": [
      "       Name  Age       City\n",
      "0     Menal   21  Bhaktapur\n",
      "1   Nishant   22   Kalo Pul\n",
      "2    Nitesh   23    Jorpati\n",
      "3  Abhishek   24    Chabhil\n"
     ]
    }
   ],
   "source": [
    "# data=[\n",
    "#     {'Name':'Menal', 'Age':21, 'City':'Bhaktapur'},\n",
    "#     {'Name':'Nishant', 'Age':22, 'City':'Kalo Pul'},\n",
    "#     {'Name':'Nitesh', 'Age':23, 'City':'Jorpati'},\n",
    "#     {'Name':'Abhishek', 'Age':24, 'City':'Chabhil'},\n",
    "# ]\n",
    "\n",
    "# df=pd.DataFrame(data)\n",
    "# print(df)"
   ]
  },
  {
   "cell_type": "code",
   "execution_count": 195,
   "id": "696a079b-12d9-43c7-8004-5dd3f5353e86",
   "metadata": {},
   "outputs": [],
   "source": [
    "#writing data to a CSV file\n",
    "df.to_csv('output.csv', index=False)"
   ]
  },
  {
   "cell_type": "code",
   "execution_count": 197,
   "id": "b4945c06-7362-4d00-86fd-db3f6f2f7683",
   "metadata": {},
   "outputs": [],
   "source": [
    "#Read\n",
    "df=pd.read_csv('output.csv')"
   ]
  },
  {
   "cell_type": "code",
   "execution_count": 199,
   "id": "0a0a8697-06ff-4b81-a7b6-fa0d08d2075f",
   "metadata": {},
   "outputs": [
    {
     "name": "stdout",
     "output_type": "stream",
     "text": [
      "       Name       City\n",
      "0     Menal  Bhaktapur\n",
      "1   Nishant  Kathmandu\n",
      "2    Nitesh   Lalitpur\n",
      "3  Abhishek  Bhaktapur\n",
      "4     Aryan  Bhaktapur\n",
      "5      Rabi  Kathmandu\n",
      "6     Suman   lalitpur\n"
     ]
    }
   ],
   "source": [
    "#Selecting a column\n",
    "print(df[['Name', 'City']])"
   ]
  },
  {
   "cell_type": "code",
   "execution_count": 201,
   "id": "ed5f973d-5f63-4bd4-b2cb-42a070ed443c",
   "metadata": {},
   "outputs": [
    {
     "data": {
      "text/html": [
       "<div>\n",
       "<style scoped>\n",
       "    .dataframe tbody tr th:only-of-type {\n",
       "        vertical-align: middle;\n",
       "    }\n",
       "\n",
       "    .dataframe tbody tr th {\n",
       "        vertical-align: top;\n",
       "    }\n",
       "\n",
       "    .dataframe thead th {\n",
       "        text-align: right;\n",
       "    }\n",
       "</style>\n",
       "<table border=\"1\" class=\"dataframe\">\n",
       "  <thead>\n",
       "    <tr style=\"text-align: right;\">\n",
       "      <th></th>\n",
       "      <th>Name</th>\n",
       "      <th>Age</th>\n",
       "      <th>City</th>\n",
       "      <th>Salary</th>\n",
       "    </tr>\n",
       "  </thead>\n",
       "  <tbody>\n",
       "    <tr>\n",
       "      <th>0</th>\n",
       "      <td>Menal</td>\n",
       "      <td>21</td>\n",
       "      <td>Bhaktapur</td>\n",
       "      <td>30000</td>\n",
       "    </tr>\n",
       "    <tr>\n",
       "      <th>1</th>\n",
       "      <td>Nishant</td>\n",
       "      <td>22</td>\n",
       "      <td>Kathmandu</td>\n",
       "      <td>15000</td>\n",
       "    </tr>\n",
       "    <tr>\n",
       "      <th>2</th>\n",
       "      <td>Nitesh</td>\n",
       "      <td>23</td>\n",
       "      <td>Lalitpur</td>\n",
       "      <td>10000</td>\n",
       "    </tr>\n",
       "    <tr>\n",
       "      <th>3</th>\n",
       "      <td>Abhishek</td>\n",
       "      <td>23</td>\n",
       "      <td>Bhaktapur</td>\n",
       "      <td>5000</td>\n",
       "    </tr>\n",
       "    <tr>\n",
       "      <th>4</th>\n",
       "      <td>Aryan</td>\n",
       "      <td>22</td>\n",
       "      <td>Bhaktapur</td>\n",
       "      <td>35000</td>\n",
       "    </tr>\n",
       "  </tbody>\n",
       "</table>\n",
       "</div>"
      ],
      "text/plain": [
       "       Name  Age       City  Salary\n",
       "0     Menal   21  Bhaktapur   30000\n",
       "1   Nishant   22  Kathmandu   15000\n",
       "2    Nitesh   23   Lalitpur   10000\n",
       "3  Abhishek   23  Bhaktapur    5000\n",
       "4     Aryan   22  Bhaktapur   35000"
      ]
     },
     "execution_count": 201,
     "metadata": {},
     "output_type": "execute_result"
    }
   ],
   "source": [
    "df.head()"
   ]
  },
  {
   "cell_type": "code",
   "execution_count": 203,
   "id": "eeb976e3-369b-4e84-981e-179124ea1c2c",
   "metadata": {},
   "outputs": [
    {
     "name": "stdout",
     "output_type": "stream",
     "text": [
      "Name          Menal\n",
      "Age              21\n",
      "City      Bhaktapur\n",
      "Salary        30000\n",
      "Name: 0, dtype: object\n"
     ]
    }
   ],
   "source": [
    "#Selecting rows by index\n",
    "print(df.iloc[0])"
   ]
  },
  {
   "cell_type": "code",
   "execution_count": 205,
   "id": "39e1ad88-0f93-45b7-a56d-f1ea5eeb37b5",
   "metadata": {},
   "outputs": [
    {
     "name": "stdout",
     "output_type": "stream",
     "text": [
      "       Name  Age       City  Salary\n",
      "2    Nitesh   23   Lalitpur   10000\n",
      "3  Abhishek   23  Bhaktapur    5000\n",
      "5      Rabi   25  Kathmandu   50000\n"
     ]
    }
   ],
   "source": [
    "#filtering row\n",
    "print(df[df['Age']>22])"
   ]
  },
  {
   "cell_type": "markdown",
   "id": "d81814c1-aa6f-4bd8-987d-590833a74f7e",
   "metadata": {},
   "source": [
    "Ranking and Sorting"
   ]
  },
  {
   "cell_type": "code",
   "execution_count": 208,
   "id": "8387e7e0-00d9-4326-975b-f3d57c5ff53f",
   "metadata": {},
   "outputs": [
    {
     "name": "stdout",
     "output_type": "stream",
     "text": [
      "       Name  Age       City  Salary  Age Rank\n",
      "0     Menal   21  Bhaktapur   30000       1.0\n",
      "1   Nishant   22  Kathmandu   15000       3.0\n",
      "2    Nitesh   23   Lalitpur   10000       5.5\n",
      "3  Abhishek   23  Bhaktapur    5000       5.5\n",
      "4     Aryan   22  Bhaktapur   35000       3.0\n",
      "5      Rabi   25  Kathmandu   50000       7.0\n",
      "6     Suman   22   lalitpur    5000       3.0\n"
     ]
    }
   ],
   "source": [
    "#Rank Age\n",
    "df['Age Rank'] = df['Age'].rank()\n",
    "\n",
    "#Sort by Age\n",
    "sorted_df=df['Age'].rank()\n",
    "print(df)"
   ]
  },
  {
   "cell_type": "code",
   "execution_count": 210,
   "id": "41ef56da-3765-4c2c-8ac3-d10d4f2d4cd4",
   "metadata": {},
   "outputs": [
    {
     "name": "stdout",
     "output_type": "stream",
     "text": [
      "       Name  Age       City  Salary  Age Rank\n",
      "0     Menal   21  Bhaktapur   30000       1.0\n",
      "1   Nishant   22  Kathmandu   15000       3.0\n",
      "2    Nitesh   23   Lalitpur   10000       5.5\n",
      "3  Abhishek   23  Bhaktapur    5000       5.5\n",
      "4     Aryan   22  Bhaktapur   35000       3.0\n",
      "5      Rabi   25  Kathmandu   50000       7.0\n",
      "6     Suman   22   lalitpur    5000       3.0\n"
     ]
    }
   ],
   "source": [
    "#Sort by Age\n",
    "sorted_df=df.sort_values(by='Age', ascending=True)\n",
    "print(df)"
   ]
  },
  {
   "cell_type": "markdown",
   "id": "6074903e-0bf1-4bdf-8531-34ef5488b9aa",
   "metadata": {},
   "source": [
    "Drop Entry"
   ]
  },
  {
   "cell_type": "code",
   "execution_count": 213,
   "id": "9638876f-33b5-4334-9814-23fa8782ea40",
   "metadata": {},
   "outputs": [
    {
     "name": "stdout",
     "output_type": "stream",
     "text": [
      "Before Dropping...\n",
      "       Name  Age       City  Salary  Age Rank\n",
      "0     Menal   21  Bhaktapur   30000       1.0\n",
      "1   Nishant   22  Kathmandu   15000       3.0\n",
      "2    Nitesh   23   Lalitpur   10000       5.5\n",
      "3  Abhishek   23  Bhaktapur    5000       5.5\n",
      "4     Aryan   22  Bhaktapur   35000       3.0\n",
      "5      Rabi   25  Kathmandu   50000       7.0\n",
      "6     Suman   22   lalitpur    5000       3.0\n",
      "\n",
      "After Dropping...\n",
      "       Name  Age       City  Salary\n",
      "0     Menal   21  Bhaktapur   30000\n",
      "1   Nishant   22  Kathmandu   15000\n",
      "3  Abhishek   23  Bhaktapur    5000\n",
      "4     Aryan   22  Bhaktapur   35000\n",
      "5      Rabi   25  Kathmandu   50000\n",
      "6     Suman   22   lalitpur    5000\n",
      "\n"
     ]
    }
   ],
   "source": [
    "df1 = df\n",
    "\n",
    "#Drop a row by index\n",
    "df1=df1.drop(index=2)\n",
    "\n",
    "#Drop a column\n",
    "df1=df1.drop(columns='Age Rank')\n",
    "\n",
    "print(\"Before Dropping...\")\n",
    "print(df)\n",
    "print()\n",
    "\n",
    "print(\"After Dropping...\")\n",
    "print(df1)\n",
    "print()"
   ]
  },
  {
   "cell_type": "code",
   "execution_count": 215,
   "id": "3da8485c-05db-40fd-905e-78a1178bf9c2",
   "metadata": {},
   "outputs": [
    {
     "name": "stdout",
     "output_type": "stream",
     "text": [
      "             Age        Salary  Age Rank\n",
      "count   7.000000      7.000000  7.000000\n",
      "mean   22.571429  21428.571429  4.000000\n",
      "std     1.272418  17251.638984  2.061553\n",
      "min    21.000000   5000.000000  1.000000\n",
      "25%    22.000000   7500.000000  3.000000\n",
      "50%    22.000000  15000.000000  3.000000\n",
      "75%    23.000000  32500.000000  5.500000\n",
      "max    25.000000  50000.000000  7.000000\n"
     ]
    }
   ],
   "source": [
    "#Describe statistics\n",
    "print(df.describe())"
   ]
  },
  {
   "cell_type": "code",
   "execution_count": 217,
   "id": "a5b9737f-f36b-4f3a-a954-6d166e0ca117",
   "metadata": {},
   "outputs": [
    {
     "name": "stdout",
     "output_type": "stream",
     "text": [
      "22.571428571428573\n",
      "\n"
     ]
    }
   ],
   "source": [
    "#Mean of a column\n",
    "print(df['Age'].mean())\n",
    "print()"
   ]
  },
  {
   "cell_type": "code",
   "execution_count": 219,
   "id": "a0653d9b-f8f3-402e-9dd8-f8e4e0bb01ed",
   "metadata": {},
   "outputs": [
    {
     "name": "stdout",
     "output_type": "stream",
     "text": [
      "150000\n"
     ]
    }
   ],
   "source": [
    "#sum of a column\n",
    "print(df['Salary'].sum())"
   ]
  },
  {
   "cell_type": "markdown",
   "id": "f6ab5710-b71d-4768-86c4-ac2f193c6d52",
   "metadata": {},
   "source": [
    "Mising vlaue"
   ]
  },
  {
   "cell_type": "code",
   "execution_count": 222,
   "id": "6f7fe63a-de56-4f69-9bf9-448a10d8e326",
   "metadata": {},
   "outputs": [
    {
     "name": "stdout",
     "output_type": "stream",
     "text": [
      "       Name   Age       City   Salary\n",
      "0     Menal  21.0  Bhaktapur  30000.0\n",
      "1   Nishant   NaN  Kathmandu  15000.0\n",
      "2    Nitesh  23.0   Lalitpur  10000.0\n",
      "3  Abhishek  23.0  Bhaktapur      NaN\n",
      "4     Aryan  22.0  Bhaktapur  35000.0\n",
      "5      Rabi  25.0  Kathmandu  50000.0\n",
      "6     Suman  22.0   lalitpur   5000.0\n",
      "\n"
     ]
    }
   ],
   "source": [
    "df=pd.read_csv('output.csv')\n",
    "\n",
    "#Introduce some missing data\n",
    "df.loc[1, 'Age']=None\n",
    "df.loc[3, 'Salary']=None\n",
    "print(df)\n",
    "print()"
   ]
  },
  {
   "cell_type": "code",
   "execution_count": 224,
   "id": "33b34f10-4c11-4a61-b794-2f3e380203af",
   "metadata": {},
   "outputs": [
    {
     "name": "stdout",
     "output_type": "stream",
     "text": [
      "    Name    Age   City  Salary\n",
      "0  False  False  False   False\n",
      "1  False   True  False   False\n",
      "2  False  False  False   False\n",
      "3  False  False  False    True\n",
      "4  False  False  False   False\n",
      "5  False  False  False   False\n",
      "6  False  False  False   False\n",
      "\n",
      "   Name    Age  City  Salary\n",
      "0  True   True  True    True\n",
      "1  True  False  True    True\n",
      "2  True   True  True    True\n",
      "3  True   True  True   False\n",
      "4  True   True  True    True\n",
      "5  True   True  True    True\n",
      "6  True   True  True    True\n"
     ]
    }
   ],
   "source": [
    "#Detect Missing value\n",
    "isnull_df=df.isnull()\n",
    "print(isnull_df)\n",
    "print()\n",
    "notnull_df=df.notnull()\n",
    "print(notnull_df)\n"
   ]
  },
  {
   "cell_type": "code",
   "execution_count": 226,
   "id": "07f36723-6c07-41cd-bf5f-9c1c181d8d7b",
   "metadata": {},
   "outputs": [
    {
     "name": "stdout",
     "output_type": "stream",
     "text": [
      "Before dropping\n",
      "       Name   Age       City   Salary\n",
      "0     Menal  21.0  Bhaktapur  30000.0\n",
      "1   Nishant   NaN  Kathmandu  15000.0\n",
      "2    Nitesh  23.0   Lalitpur  10000.0\n",
      "3  Abhishek  23.0  Bhaktapur      NaN\n",
      "4     Aryan  22.0  Bhaktapur  35000.0\n",
      "5      Rabi  25.0  Kathmandu  50000.0\n",
      "6     Suman  22.0   lalitpur   5000.0\n",
      "\n",
      "After dropping\n",
      "     Name   Age       City   Salary\n",
      "0   Menal  21.0  Bhaktapur  30000.0\n",
      "2  Nitesh  23.0   Lalitpur  10000.0\n",
      "4   Aryan  22.0  Bhaktapur  35000.0\n",
      "5    Rabi  25.0  Kathmandu  50000.0\n",
      "6   Suman  22.0   lalitpur   5000.0\n"
     ]
    }
   ],
   "source": [
    "#Drop row with any missing values\n",
    "print(\"Before dropping\")\n",
    "print(df)\n",
    "df_dropped=df.dropna()\n",
    "print()\n",
    "print(\"After dropping\")\n",
    "print(df_dropped)"
   ]
  },
  {
   "cell_type": "code",
   "execution_count": 228,
   "id": "31357a0a-1bb3-454d-ae53-bd594065b475",
   "metadata": {},
   "outputs": [
    {
     "name": "stdout",
     "output_type": "stream",
     "text": [
      "After Filling\n",
      "       Name        Age       City   Salary\n",
      "0     Menal  21.000000  Bhaktapur  30000.0\n",
      "1   Nishant  22.666667  Kathmandu  15000.0\n",
      "2    Nitesh  23.000000   Lalitpur  10000.0\n",
      "3  Abhishek  23.000000  Bhaktapur  22500.0\n",
      "4     Aryan  22.000000  Bhaktapur  35000.0\n",
      "5      Rabi  25.000000  Kathmandu  50000.0\n",
      "6     Suman  22.000000   lalitpur   5000.0\n"
     ]
    }
   ],
   "source": [
    "#Fill missing value\n",
    "df_filled=df.fillna({'Age':df['Age'].mean(), 'Salary':df['Salary'].median()})\n",
    "print(\"After Filling\")\n",
    "print(df_filled)\n"
   ]
  },
  {
   "cell_type": "code",
   "execution_count": 256,
   "id": "e180ce10-5086-48e1-857a-5370f51ec28d",
   "metadata": {},
   "outputs": [
    {
     "name": "stdout",
     "output_type": "stream",
     "text": [
      "         Age       City   Salary Age Group\n",
      "0  21.000000  Bhaktapur  30000.0     Youth\n",
      "1  22.666667  Kathmandu  15000.0     Youth\n",
      "2  23.000000   Lalitpur  10000.0     Youth\n",
      "3  23.000000  Bhaktapur  22500.0     Youth\n",
      "4  22.000000  Bhaktapur  35000.0     Youth\n",
      "5  25.000000  Kathmandu  50000.0     Youth\n",
      "6  22.000000   lalitpur   5000.0     Youth\n"
     ]
    }
   ],
   "source": [
    "#create a new column based on existing columns\n",
    "df_filled['Age Group'] = pd.cut(df_filled['Age'], bins=[0,25,35,45,60], labels=['Youth', 'Audult', 'Middle-Age', 'Senior'])\n",
    "print(df_filled)"
   ]
  },
  {
   "cell_type": "code",
   "execution_count": 262,
   "id": "fcb61494-cbaf-4a92-9873-c1cf950a80d0",
   "metadata": {},
   "outputs": [],
   "source": [
    "#Group by column\n",
    "grouped = df.groupby('City')"
   ]
  },
  {
   "cell_type": "code",
   "execution_count": 270,
   "id": "e217e1b2-7429-475e-97f0-fc472c44ffd2",
   "metadata": {},
   "outputs": [
    {
     "name": "stdout",
     "output_type": "stream",
     "text": [
      "         Age       City   Salary Age Group\n",
      "0  21.000000  Bhaktapur  30000.0     Youth\n",
      "1  22.666667  Kathmandu  15000.0     Youth\n",
      "2  23.000000   Lalitpur  10000.0     Youth\n",
      "3  23.000000  Bhaktapur  22500.0     Youth\n",
      "4  22.000000  Bhaktapur  35000.0     Youth\n",
      "5  25.000000  Kathmandu  50000.0     Youth\n",
      "6  22.000000   lalitpur   5000.0     Youth\n"
     ]
    }
   ],
   "source": [
    "print(df_filled)"
   ]
  },
  {
   "cell_type": "code",
   "execution_count": 272,
   "id": "6faf30ac-a6af-4d98-8736-759f415b4cdf",
   "metadata": {},
   "outputs": [
    {
     "name": "stdout",
     "output_type": "stream",
     "text": [
      "            Age   Salary\n",
      "City                    \n",
      "Bhaktapur  66.0  65000.0\n",
      "Kathmandu  25.0  65000.0\n",
      "Lalitpur   23.0  10000.0\n",
      "lalitpur   22.0   5000.0\n"
     ]
    }
   ],
   "source": [
    "#Aggregated with sum\n",
    "print(grouped.sum())"
   ]
  },
  {
   "cell_type": "code",
   "execution_count": 276,
   "id": "bcb00216-5707-474b-97a8-8e8472332012",
   "metadata": {},
   "outputs": [
    {
     "name": "stdout",
     "output_type": "stream",
     "text": [
      "            Age   Salary\n",
      "City                    \n",
      "Bhaktapur  22.0  32500.0\n",
      "Kathmandu  25.0  32500.0\n",
      "Lalitpur   23.0  10000.0\n",
      "lalitpur   22.0   5000.0\n"
     ]
    }
   ],
   "source": [
    "#Aggregated with mean\n",
    "print(grouped.mean(numeric_only=True))\n"
   ]
  },
  {
   "cell_type": "markdown",
   "id": "34c641fa-2eae-49fa-949f-3779e87046e2",
   "metadata": {},
   "source": [
    "Plottting"
   ]
  },
  {
   "cell_type": "code",
   "execution_count": 7,
   "id": "72226608-a3b0-47ff-9b31-6075fe9f0d79",
   "metadata": {},
   "outputs": [],
   "source": [
    "import matplotlib.pyplot as plt"
   ]
  },
  {
   "cell_type": "code",
   "execution_count": 11,
   "id": "02755278-ce8c-4067-9f93-6d565b2a6a15",
   "metadata": {},
   "outputs": [
    {
     "data": {
      "image/png": "[encoded data removed]",
      "text/plain": [
       "<Figure size 640x480 with 1 Axes>"
      ]
     },
     "metadata": {},
     "output_type": "display_data"
    }
   ],
   "source": [
    "df=pd.read_csv('output.csv')\n",
    "\n",
    "#Scatter plot of Age vs.Salary\n",
    "df.plot()\n",
    "plt.show()"
   ]
  },
  {
   "cell_type": "code",
   "execution_count": null,
   "id": "4d92d6c6-8b72-4f60-a27e-de8ce1f265c6",
   "metadata": {},
   "outputs": [],
   "source": []
  }
 ],
 "metadata": {
  "kernelspec": {
   "display_name": "Python 3 (ipykernel)",
   "language": "python",
   "name": "python3"
  },
  "language_info": {
   "codemirror_mode": {
    "name": "ipython",
    "version": 3
   },
   "file_extension": ".py",
   "mimetype": "text/x-python",
   "name": "python",
   "nbconvert_exporter": "python",
   "pygments_lexer": "ipython3",
   "version": "3.11.7"
  }
 },
 "nbformat": 4,
 "nbformat_minor": 5
}
